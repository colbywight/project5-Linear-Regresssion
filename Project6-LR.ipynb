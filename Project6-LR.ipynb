{
 "cells": [
  {
   "cell_type": "code",
   "execution_count": 1,
   "metadata": {},
   "outputs": [],
   "source": [
    "import pandas as pd\n",
    "import matplotlib.pyplot as plt\n",
    "\n",
    "from sklearn.preprocessing import scale\n",
    "import numpy as np\n",
    "\n",
    "from sklearn.linear_model import LinearRegression"
   ]
  },
  {
   "cell_type": "code",
   "execution_count": null,
   "metadata": {},
   "outputs": [],
   "source": []
  },
  {
   "cell_type": "markdown",
   "metadata": {},
   "source": [
    "read in the data"
   ]
  },
  {
   "cell_type": "code",
   "execution_count": 3,
   "metadata": {},
   "outputs": [
    {
     "data": {
      "text/html": [
       "<div>\n",
       "<style scoped>\n",
       "    .dataframe tbody tr th:only-of-type {\n",
       "        vertical-align: middle;\n",
       "    }\n",
       "\n",
       "    .dataframe tbody tr th {\n",
       "        vertical-align: top;\n",
       "    }\n",
       "\n",
       "    .dataframe thead th {\n",
       "        text-align: right;\n",
       "    }\n",
       "</style>\n",
       "<table border=\"1\" class=\"dataframe\">\n",
       "  <thead>\n",
       "    <tr style=\"text-align: right;\">\n",
       "      <th></th>\n",
       "      <th>Date</th>\n",
       "      <th>Segment_id</th>\n",
       "      <th>x</th>\n",
       "      <th>y</th>\n",
       "      <th>Evapotranspiration</th>\n",
       "      <th>Precipitation</th>\n",
       "      <th>Irrigation_pumping</th>\n",
       "      <th>Observed</th>\n",
       "    </tr>\n",
       "  </thead>\n",
       "  <tbody>\n",
       "    <tr>\n",
       "      <td>0</td>\n",
       "      <td>711767</td>\n",
       "      <td>40</td>\n",
       "      <td>1798990</td>\n",
       "      <td>14561280</td>\n",
       "      <td>2.26</td>\n",
       "      <td>20.68</td>\n",
       "      <td>0.0</td>\n",
       "      <td>12.129464</td>\n",
       "    </tr>\n",
       "    <tr>\n",
       "      <td>1</td>\n",
       "      <td>711797</td>\n",
       "      <td>40</td>\n",
       "      <td>1798990</td>\n",
       "      <td>14561280</td>\n",
       "      <td>0.05</td>\n",
       "      <td>20.68</td>\n",
       "      <td>0.0</td>\n",
       "      <td>15.497054</td>\n",
       "    </tr>\n",
       "    <tr>\n",
       "      <td>2</td>\n",
       "      <td>711828</td>\n",
       "      <td>40</td>\n",
       "      <td>1798990</td>\n",
       "      <td>14561280</td>\n",
       "      <td>0.22</td>\n",
       "      <td>20.68</td>\n",
       "      <td>0.0</td>\n",
       "      <td>16.007097</td>\n",
       "    </tr>\n",
       "    <tr>\n",
       "      <td>3</td>\n",
       "      <td>711859</td>\n",
       "      <td>40</td>\n",
       "      <td>1798990</td>\n",
       "      <td>14561280</td>\n",
       "      <td>0.00</td>\n",
       "      <td>29.07</td>\n",
       "      <td>0.0</td>\n",
       "      <td>15.877097</td>\n",
       "    </tr>\n",
       "    <tr>\n",
       "      <td>4</td>\n",
       "      <td>711887</td>\n",
       "      <td>40</td>\n",
       "      <td>1798990</td>\n",
       "      <td>14561280</td>\n",
       "      <td>0.16</td>\n",
       "      <td>29.07</td>\n",
       "      <td>0.0</td>\n",
       "      <td>15.828305</td>\n",
       "    </tr>\n",
       "  </tbody>\n",
       "</table>\n",
       "</div>"
      ],
      "text/plain": [
       "     Date  Segment_id        x         y  Evapotranspiration  Precipitation  \\\n",
       "0  711767          40  1798990  14561280                2.26          20.68   \n",
       "1  711797          40  1798990  14561280                0.05          20.68   \n",
       "2  711828          40  1798990  14561280                0.22          20.68   \n",
       "3  711859          40  1798990  14561280                0.00          29.07   \n",
       "4  711887          40  1798990  14561280                0.16          29.07   \n",
       "\n",
       "   Irrigation_pumping   Observed  \n",
       "0                 0.0  12.129464  \n",
       "1                 0.0  15.497054  \n",
       "2                 0.0  16.007097  \n",
       "3                 0.0  15.877097  \n",
       "4                 0.0  15.828305  "
      ]
     },
     "execution_count": 3,
     "metadata": {},
     "output_type": "execute_result"
    }
   ],
   "source": [
    "# read data into a DataFrame\n",
    "# data = pd.read_csv('RRCA_baseflow.csv', index_col=0)\n",
    "data = pd.read_csv('RRCA_baseflow.csv')\n",
    "data.head()"
   ]
  },
  {
   "cell_type": "code",
   "execution_count": 4,
   "metadata": {},
   "outputs": [
    {
     "data": {
      "text/plain": [
       "(15591, 8)"
      ]
     },
     "execution_count": 4,
     "metadata": {},
     "output_type": "execute_result"
    }
   ],
   "source": [
    "# print the shape of the DataFrame\n",
    "data.shape"
   ]
  },
  {
   "cell_type": "code",
   "execution_count": 5,
   "metadata": {},
   "outputs": [
    {
     "data": {
      "text/plain": [
       "<matplotlib.axes._subplots.AxesSubplot at 0x1894ada0788>"
      ]
     },
     "execution_count": 5,
     "metadata": {},
     "output_type": "execute_result"
    },
    {
     "data": {
      "image/png": "[encoded data removed]",
      "text/plain": [
       "<Figure size 1152x576 with 3 Axes>"
      ]
     },
     "metadata": {
      "needs_background": "light"
     },
     "output_type": "display_data"
    }
   ],
   "source": [
    "# visualize the relationship between the features and the response using scatterplots\n",
    "fig, axs = plt.subplots(1, 3, sharey=True)\n",
    "data.plot(kind='scatter', x='Segment_id', y='Observed', ax=axs[0], figsize=(16, 8))\n",
    "data.plot(kind='scatter', x='x', y='Observed', ax=axs[1])\n",
    "data.plot(kind='scatter', x='y', y='Observed', ax=axs[2])"
   ]
  },
  {
   "cell_type": "code",
   "execution_count": 6,
   "metadata": {},
   "outputs": [
    {
     "data": {
      "text/plain": [
       "<matplotlib.axes._subplots.AxesSubplot at 0x1894aeb4d08>"
      ]
     },
     "execution_count": 6,
     "metadata": {},
     "output_type": "execute_result"
    },
    {
     "data": {
      "image/png": "[encoded data removed]",
      "text/plain": [
       "<Figure size 1152x576 with 3 Axes>"
      ]
     },
     "metadata": {
      "needs_background": "light"
     },
     "output_type": "display_data"
    }
   ],
   "source": [
    "# visualize the relationship between the features and the response using scatterplots\n",
    "fig, axs = plt.subplots(1, 3, sharey=True)\n",
    "data.plot(kind='scatter', x='Evapotranspiration', y='Observed', ax=axs[0], figsize=(16, 8))\n",
    "data.plot(kind='scatter', x='Precipitation', y='Observed', ax=axs[1])\n",
    "data.plot(kind='scatter', x='Irrigation_pumping', y='Observed', ax=axs[2])"
   ]
  },
  {
   "cell_type": "code",
   "execution_count": 7,
   "metadata": {},
   "outputs": [],
   "source": [
    "df_seg144 = data[data.Segment_id==144]"
   ]
  },
  {
   "cell_type": "code",
   "execution_count": 8,
   "metadata": {},
   "outputs": [
    {
     "data": {
      "text/plain": [
       "<matplotlib.axes._subplots.AxesSubplot at 0x1894aff5d48>"
      ]
     },
     "execution_count": 8,
     "metadata": {},
     "output_type": "execute_result"
    },
    {
     "data": {
      "image/png": "[encoded data removed]",
      "text/plain": [
       "<Figure size 1152x576 with 3 Axes>"
      ]
     },
     "metadata": {
      "needs_background": "light"
     },
     "output_type": "display_data"
    }
   ],
   "source": [
    "fig, axs = plt.subplots(1, 3, sharey=True)\n",
    "df_seg144.plot(kind='scatter', x='Evapotranspiration', y='Observed', ax=axs[0], figsize=(16, 8))\n",
    "df_seg144.plot(kind='scatter', x='Precipitation', y='Observed', ax=axs[1])\n",
    "df_seg144.plot(kind='scatter', x='Irrigation_pumping', y='Observed', ax=axs[2])"
   ]
  },
  {
   "cell_type": "code",
   "execution_count": 9,
   "metadata": {},
   "outputs": [
    {
     "data": {
      "text/plain": [
       "<matplotlib.axes._subplots.AxesSubplot at 0x1894b3a2988>"
      ]
     },
     "execution_count": 9,
     "metadata": {},
     "output_type": "execute_result"
    },
    {
     "data": {
      "image/png": "[encoded data removed]",
      "text/plain": [
       "<Figure size 1152x576 with 3 Axes>"
      ]
     },
     "metadata": {
      "needs_background": "light"
     },
     "output_type": "display_data"
    }
   ],
   "source": [
    "# visualize the relationship between the features and the response using scatterplots\n",
    "fig, axs = plt.subplots(1, 3, sharey=True)\n",
    "df_seg144.plot(kind='scatter', x='Date', y='Observed', ax=axs[0], figsize=(16, 8))\n",
    "df_seg144.plot(kind='scatter', x='x', y='Observed', ax=axs[1])\n",
    "df_seg144.plot(kind='scatter', x='y', y='Observed', ax=axs[2])"
   ]
  },
  {
   "cell_type": "code",
   "execution_count": 10,
   "metadata": {},
   "outputs": [
    {
     "data": {
      "text/html": [
       "<div>\n",
       "<style scoped>\n",
       "    .dataframe tbody tr th:only-of-type {\n",
       "        vertical-align: middle;\n",
       "    }\n",
       "\n",
       "    .dataframe tbody tr th {\n",
       "        vertical-align: top;\n",
       "    }\n",
       "\n",
       "    .dataframe thead th {\n",
       "        text-align: right;\n",
       "    }\n",
       "</style>\n",
       "<table border=\"1\" class=\"dataframe\">\n",
       "  <thead>\n",
       "    <tr style=\"text-align: right;\">\n",
       "      <th></th>\n",
       "      <th>Date</th>\n",
       "      <th>Segment_id</th>\n",
       "      <th>x</th>\n",
       "      <th>y</th>\n",
       "      <th>Evapotranspiration</th>\n",
       "      <th>Precipitation</th>\n",
       "      <th>Irrigation_pumping</th>\n",
       "      <th>Observed</th>\n",
       "    </tr>\n",
       "  </thead>\n",
       "  <tbody>\n",
       "    <tr>\n",
       "      <td>7442</td>\n",
       "      <td>710732</td>\n",
       "      <td>144</td>\n",
       "      <td>1086190</td>\n",
       "      <td>14476800</td>\n",
       "      <td>0.59</td>\n",
       "      <td>18.99</td>\n",
       "      <td>0.0</td>\n",
       "      <td>0.145161</td>\n",
       "    </tr>\n",
       "    <tr>\n",
       "      <td>7443</td>\n",
       "      <td>710763</td>\n",
       "      <td>144</td>\n",
       "      <td>1086190</td>\n",
       "      <td>14476800</td>\n",
       "      <td>0.97</td>\n",
       "      <td>29.63</td>\n",
       "      <td>0.0</td>\n",
       "      <td>0.445161</td>\n",
       "    </tr>\n",
       "    <tr>\n",
       "      <td>7444</td>\n",
       "      <td>710791</td>\n",
       "      <td>144</td>\n",
       "      <td>1086190</td>\n",
       "      <td>14476800</td>\n",
       "      <td>1.34</td>\n",
       "      <td>29.63</td>\n",
       "      <td>0.0</td>\n",
       "      <td>1.332203</td>\n",
       "    </tr>\n",
       "    <tr>\n",
       "      <td>7445</td>\n",
       "      <td>710822</td>\n",
       "      <td>144</td>\n",
       "      <td>1086190</td>\n",
       "      <td>14476800</td>\n",
       "      <td>1.79</td>\n",
       "      <td>29.63</td>\n",
       "      <td>0.0</td>\n",
       "      <td>2.932203</td>\n",
       "    </tr>\n",
       "    <tr>\n",
       "      <td>7446</td>\n",
       "      <td>710852</td>\n",
       "      <td>144</td>\n",
       "      <td>1086190</td>\n",
       "      <td>14476800</td>\n",
       "      <td>8.23</td>\n",
       "      <td>29.63</td>\n",
       "      <td>0.0</td>\n",
       "      <td>3.728689</td>\n",
       "    </tr>\n",
       "  </tbody>\n",
       "</table>\n",
       "</div>"
      ],
      "text/plain": [
       "        Date  Segment_id        x         y  Evapotranspiration  \\\n",
       "7442  710732         144  1086190  14476800                0.59   \n",
       "7443  710763         144  1086190  14476800                0.97   \n",
       "7444  710791         144  1086190  14476800                1.34   \n",
       "7445  710822         144  1086190  14476800                1.79   \n",
       "7446  710852         144  1086190  14476800                8.23   \n",
       "\n",
       "      Precipitation  Irrigation_pumping  Observed  \n",
       "7442          18.99                 0.0  0.145161  \n",
       "7443          29.63                 0.0  0.445161  \n",
       "7444          29.63                 0.0  1.332203  \n",
       "7445          29.63                 0.0  2.932203  \n",
       "7446          29.63                 0.0  3.728689  "
      ]
     },
     "execution_count": 10,
     "metadata": {},
     "output_type": "execute_result"
    }
   ],
   "source": [
    "df_seg144.head()"
   ]
  },
  {
   "cell_type": "code",
   "execution_count": 11,
   "metadata": {},
   "outputs": [],
   "source": [
    "data_target = df_seg144.iloc[:,-1].values\n",
    "data_ip = df_seg144.loc[:, data.columns != 'Observed'].values"
   ]
  },
  {
   "cell_type": "code",
   "execution_count": 12,
   "metadata": {},
   "outputs": [],
   "source": [
    "X,y = scale(data_ip), data_target\n"
   ]
  },
  {
   "cell_type": "code",
   "execution_count": 13,
   "metadata": {},
   "outputs": [
    {
     "data": {
      "text/plain": [
       "array([], dtype=float64)"
      ]
     },
     "execution_count": 13,
     "metadata": {},
     "output_type": "execute_result"
    }
   ],
   "source": [
    "\n",
    "missing_values = X == np.NaN\n",
    "X[missing_values == True]"
   ]
  },
  {
   "cell_type": "code",
   "execution_count": 14,
   "metadata": {},
   "outputs": [],
   "source": [
    "# LinReg = LinearRegression(normalize = True)\n",
    "# LinReg.fit(X,y)\n",
    "# print(LinReg.score(X,y))"
   ]
  },
  {
   "cell_type": "code",
   "execution_count": 15,
   "metadata": {},
   "outputs": [],
   "source": [
    "# create X and y\n",
    "# feature_cols = ['Irrigation_pumping']\n",
    "# X = df_seg144[feature_cols]\n",
    "# y = df_seg144.Observed\n",
    "\n",
    "# # follow the usual sklearn pattern: import, instantiate, fit\n",
    "# from sklearn.linear_model import LinearRegression\n",
    "# lm = LinearRegression()\n",
    "# lm.fit(X, y)\n",
    "\n",
    "# # print intercept and coefficients\n",
    "# print(lm.intercept_)\n",
    "# print(lm.coef_)"
   ]
  },
  {
   "cell_type": "markdown",
   "metadata": {},
   "source": [
    "## Segment 144"
   ]
  },
  {
   "cell_type": "markdown",
   "metadata": {},
   "source": [
    "### Irrigation pumpinig variable"
   ]
  },
  {
   "cell_type": "code",
   "execution_count": 16,
   "metadata": {},
   "outputs": [
    {
     "data": {
      "text/plain": [
       "Intercept             5.887000\n",
       "Irrigation_pumping    4.749874\n",
       "dtype: float64"
      ]
     },
     "metadata": {},
     "output_type": "display_data"
    },
    {
     "data": {
      "text/html": [
       "<table class=\"simpletable\">\n",
       "<caption>OLS Regression Results</caption>\n",
       "<tr>\n",
       "  <th>Dep. Variable:</th>        <td>Observed</td>     <th>  R-squared:         </th> <td>   0.046</td>\n",
       "</tr>\n",
       "<tr>\n",
       "  <th>Model:</th>                   <td>OLS</td>       <th>  Adj. R-squared:    </th> <td>   0.038</td>\n",
       "</tr>\n",
       "<tr>\n",
       "  <th>Method:</th>             <td>Least Squares</td>  <th>  F-statistic:       </th> <td>   5.607</td>\n",
       "</tr>\n",
       "<tr>\n",
       "  <th>Date:</th>             <td>Wed, 11 Mar 2020</td> <th>  Prob (F-statistic):</th>  <td>0.0195</td> \n",
       "</tr>\n",
       "<tr>\n",
       "  <th>Time:</th>                 <td>12:10:42</td>     <th>  Log-Likelihood:    </th> <td> -339.38</td>\n",
       "</tr>\n",
       "<tr>\n",
       "  <th>No. Observations:</th>      <td>   118</td>      <th>  AIC:               </th> <td>   682.8</td>\n",
       "</tr>\n",
       "<tr>\n",
       "  <th>Df Residuals:</th>          <td>   116</td>      <th>  BIC:               </th> <td>   688.3</td>\n",
       "</tr>\n",
       "<tr>\n",
       "  <th>Df Model:</th>              <td>     1</td>      <th>                     </th>     <td> </td>   \n",
       "</tr>\n",
       "<tr>\n",
       "  <th>Covariance Type:</th>      <td>nonrobust</td>    <th>                     </th>     <td> </td>   \n",
       "</tr>\n",
       "</table>\n",
       "<table class=\"simpletable\">\n",
       "<tr>\n",
       "           <td></td>             <th>coef</th>     <th>std err</th>      <th>t</th>      <th>P>|t|</th>  <th>[0.025</th>    <th>0.975]</th>  \n",
       "</tr>\n",
       "<tr>\n",
       "  <th>Intercept</th>          <td>    5.8870</td> <td>    0.415</td> <td>   14.197</td> <td> 0.000</td> <td>    5.066</td> <td>    6.708</td>\n",
       "</tr>\n",
       "<tr>\n",
       "  <th>Irrigation_pumping</th> <td>    4.7499</td> <td>    2.006</td> <td>    2.368</td> <td> 0.020</td> <td>    0.777</td> <td>    8.723</td>\n",
       "</tr>\n",
       "</table>\n",
       "<table class=\"simpletable\">\n",
       "<tr>\n",
       "  <th>Omnibus:</th>       <td>17.818</td> <th>  Durbin-Watson:     </th> <td>   0.196</td>\n",
       "</tr>\n",
       "<tr>\n",
       "  <th>Prob(Omnibus):</th> <td> 0.000</td> <th>  Jarque-Bera (JB):  </th> <td>   8.432</td>\n",
       "</tr>\n",
       "<tr>\n",
       "  <th>Skew:</th>          <td> 0.454</td> <th>  Prob(JB):          </th> <td>  0.0148</td>\n",
       "</tr>\n",
       "<tr>\n",
       "  <th>Kurtosis:</th>      <td> 2.056</td> <th>  Cond. No.          </th> <td>    5.05</td>\n",
       "</tr>\n",
       "</table><br/><br/>Warnings:<br/>[1] Standard Errors assume that the covariance matrix of the errors is correctly specified."
      ],
      "text/plain": [
       "<class 'statsmodels.iolib.summary.Summary'>\n",
       "\"\"\"\n",
       "                            OLS Regression Results                            \n",
       "==============================================================================\n",
       "Dep. Variable:               Observed   R-squared:                       0.046\n",
       "Model:                            OLS   Adj. R-squared:                  0.038\n",
       "Method:                 Least Squares   F-statistic:                     5.607\n",
       "Date:                Wed, 11 Mar 2020   Prob (F-statistic):             0.0195\n",
       "Time:                        12:10:42   Log-Likelihood:                -339.38\n",
       "No. Observations:                 118   AIC:                             682.8\n",
       "Df Residuals:                     116   BIC:                             688.3\n",
       "Df Model:                           1                                         \n",
       "Covariance Type:            nonrobust                                         \n",
       "======================================================================================\n",
       "                         coef    std err          t      P>|t|      [0.025      0.975]\n",
       "--------------------------------------------------------------------------------------\n",
       "Intercept              5.8870      0.415     14.197      0.000       5.066       6.708\n",
       "Irrigation_pumping     4.7499      2.006      2.368      0.020       0.777       8.723\n",
       "==============================================================================\n",
       "Omnibus:                       17.818   Durbin-Watson:                   0.196\n",
       "Prob(Omnibus):                  0.000   Jarque-Bera (JB):                8.432\n",
       "Skew:                           0.454   Prob(JB):                       0.0148\n",
       "Kurtosis:                       2.056   Cond. No.                         5.05\n",
       "==============================================================================\n",
       "\n",
       "Warnings:\n",
       "[1] Standard Errors assume that the covariance matrix of the errors is correctly specified.\n",
       "\"\"\""
      ]
     },
     "execution_count": 16,
     "metadata": {},
     "output_type": "execute_result"
    }
   ],
   "source": [
    "import statsmodels.formula.api as smf\n",
    "lm = smf.ols(formula='Observed ~ Irrigation_pumping', data=df_seg144).fit()\n",
    "# print the coefficients\n",
    "display(lm.params)\n",
    "\n",
    "# print the confidence intervals for the model coefficients\n",
    "# display(lm.conf_int())\n",
    "# print the p-values for the model coefficients\n",
    "# lm.pvalues\n",
    "# print a summary of the fitted model\n",
    "lm.summary()"
   ]
  },
  {
   "cell_type": "code",
   "execution_count": 17,
   "metadata": {},
   "outputs": [
    {
     "data": {
      "image/png": "[encoded data removed]",
      "text/plain": [
       "<Figure size 432x288 with 1 Axes>"
      ]
     },
     "metadata": {
      "needs_background": "light"
     },
     "output_type": "display_data"
    }
   ],
   "source": [
    "import seaborn as sns\n",
    "\n",
    "plt.figure()\n",
    "ax = sns.regplot(x='Irrigation_pumping', y='Observed', data=df_seg144)\n"
   ]
  },
  {
   "cell_type": "markdown",
   "metadata": {},
   "source": [
    "### Precipitatin (Seg 144)"
   ]
  },
  {
   "cell_type": "code",
   "execution_count": 18,
   "metadata": {},
   "outputs": [
    {
     "data": {
      "text/html": [
       "<table class=\"simpletable\">\n",
       "<caption>OLS Regression Results</caption>\n",
       "<tr>\n",
       "  <th>Dep. Variable:</th>        <td>Observed</td>     <th>  R-squared:         </th> <td>   0.001</td>\n",
       "</tr>\n",
       "<tr>\n",
       "  <th>Model:</th>                   <td>OLS</td>       <th>  Adj. R-squared:    </th> <td>  -0.008</td>\n",
       "</tr>\n",
       "<tr>\n",
       "  <th>Method:</th>             <td>Least Squares</td>  <th>  F-statistic:       </th> <td> 0.08178</td>\n",
       "</tr>\n",
       "<tr>\n",
       "  <th>Date:</th>             <td>Wed, 11 Mar 2020</td> <th>  Prob (F-statistic):</th>  <td> 0.775</td> \n",
       "</tr>\n",
       "<tr>\n",
       "  <th>Time:</th>                 <td>12:10:44</td>     <th>  Log-Likelihood:    </th> <td> -342.13</td>\n",
       "</tr>\n",
       "<tr>\n",
       "  <th>No. Observations:</th>      <td>   118</td>      <th>  AIC:               </th> <td>   688.3</td>\n",
       "</tr>\n",
       "<tr>\n",
       "  <th>Df Residuals:</th>          <td>   116</td>      <th>  BIC:               </th> <td>   693.8</td>\n",
       "</tr>\n",
       "<tr>\n",
       "  <th>Df Model:</th>              <td>     1</td>      <th>                     </th>     <td> </td>   \n",
       "</tr>\n",
       "<tr>\n",
       "  <th>Covariance Type:</th>      <td>nonrobust</td>    <th>                     </th>     <td> </td>   \n",
       "</tr>\n",
       "</table>\n",
       "<table class=\"simpletable\">\n",
       "<tr>\n",
       "        <td></td>           <th>coef</th>     <th>std err</th>      <th>t</th>      <th>P>|t|</th>  <th>[0.025</th>    <th>0.975]</th>  \n",
       "</tr>\n",
       "<tr>\n",
       "  <th>Intercept</th>     <td>    6.1222</td> <td>    1.813</td> <td>    3.377</td> <td> 0.001</td> <td>    2.531</td> <td>    9.713</td>\n",
       "</tr>\n",
       "<tr>\n",
       "  <th>Precipitation</th> <td>   -0.0241</td> <td>    0.084</td> <td>   -0.286</td> <td> 0.775</td> <td>   -0.191</td> <td>    0.143</td>\n",
       "</tr>\n",
       "</table>\n",
       "<table class=\"simpletable\">\n",
       "<tr>\n",
       "  <th>Omnibus:</th>       <td>16.890</td> <th>  Durbin-Watson:     </th> <td>   0.138</td>\n",
       "</tr>\n",
       "<tr>\n",
       "  <th>Prob(Omnibus):</th> <td> 0.000</td> <th>  Jarque-Bera (JB):  </th> <td>   9.474</td>\n",
       "</tr>\n",
       "<tr>\n",
       "  <th>Skew:</th>          <td> 0.527</td> <th>  Prob(JB):          </th> <td> 0.00877</td>\n",
       "</tr>\n",
       "<tr>\n",
       "  <th>Kurtosis:</th>      <td> 2.097</td> <th>  Cond. No.          </th> <td>    95.9</td>\n",
       "</tr>\n",
       "</table><br/><br/>Warnings:<br/>[1] Standard Errors assume that the covariance matrix of the errors is correctly specified."
      ],
      "text/plain": [
       "<class 'statsmodels.iolib.summary.Summary'>\n",
       "\"\"\"\n",
       "                            OLS Regression Results                            \n",
       "==============================================================================\n",
       "Dep. Variable:               Observed   R-squared:                       0.001\n",
       "Model:                            OLS   Adj. R-squared:                 -0.008\n",
       "Method:                 Least Squares   F-statistic:                   0.08178\n",
       "Date:                Wed, 11 Mar 2020   Prob (F-statistic):              0.775\n",
       "Time:                        12:10:44   Log-Likelihood:                -342.13\n",
       "No. Observations:                 118   AIC:                             688.3\n",
       "Df Residuals:                     116   BIC:                             693.8\n",
       "Df Model:                           1                                         \n",
       "Covariance Type:            nonrobust                                         \n",
       "=================================================================================\n",
       "                    coef    std err          t      P>|t|      [0.025      0.975]\n",
       "---------------------------------------------------------------------------------\n",
       "Intercept         6.1222      1.813      3.377      0.001       2.531       9.713\n",
       "Precipitation    -0.0241      0.084     -0.286      0.775      -0.191       0.143\n",
       "==============================================================================\n",
       "Omnibus:                       16.890   Durbin-Watson:                   0.138\n",
       "Prob(Omnibus):                  0.000   Jarque-Bera (JB):                9.474\n",
       "Skew:                           0.527   Prob(JB):                      0.00877\n",
       "Kurtosis:                       2.097   Cond. No.                         95.9\n",
       "==============================================================================\n",
       "\n",
       "Warnings:\n",
       "[1] Standard Errors assume that the covariance matrix of the errors is correctly specified.\n",
       "\"\"\""
      ]
     },
     "execution_count": 18,
     "metadata": {},
     "output_type": "execute_result"
    }
   ],
   "source": [
    "lm = smf.ols(formula='Observed ~ Precipitation', data=df_seg144).fit()\n",
    "# print the coefficients\n",
    "\n",
    "lm.summary()"
   ]
  },
  {
   "cell_type": "code",
   "execution_count": 19,
   "metadata": {},
   "outputs": [
    {
     "data": {
      "image/png": "[encoded data removed]",
      "text/plain": [
       "<Figure size 432x288 with 1 Axes>"
      ]
     },
     "metadata": {
      "needs_background": "light"
     },
     "output_type": "display_data"
    }
   ],
   "source": [
    "plt.figure()\n",
    "ax = sns.regplot(x='Precipitation', y='Observed', data=df_seg144)"
   ]
  },
  {
   "cell_type": "code",
   "execution_count": 20,
   "metadata": {},
   "outputs": [
    {
     "data": {
      "text/html": [
       "<table class=\"simpletable\">\n",
       "<caption>OLS Regression Results</caption>\n",
       "<tr>\n",
       "  <th>Dep. Variable:</th>        <td>Observed</td>     <th>  R-squared:         </th> <td>   0.039</td>\n",
       "</tr>\n",
       "<tr>\n",
       "  <th>Model:</th>                   <td>OLS</td>       <th>  Adj. R-squared:    </th> <td>   0.031</td>\n",
       "</tr>\n",
       "<tr>\n",
       "  <th>Method:</th>             <td>Least Squares</td>  <th>  F-statistic:       </th> <td>   4.743</td>\n",
       "</tr>\n",
       "<tr>\n",
       "  <th>Date:</th>             <td>Wed, 11 Mar 2020</td> <th>  Prob (F-statistic):</th>  <td>0.0314</td> \n",
       "</tr>\n",
       "<tr>\n",
       "  <th>Time:</th>                 <td>12:10:45</td>     <th>  Log-Likelihood:    </th> <td> -339.80</td>\n",
       "</tr>\n",
       "<tr>\n",
       "  <th>No. Observations:</th>      <td>   118</td>      <th>  AIC:               </th> <td>   683.6</td>\n",
       "</tr>\n",
       "<tr>\n",
       "  <th>Df Residuals:</th>          <td>   116</td>      <th>  BIC:               </th> <td>   689.1</td>\n",
       "</tr>\n",
       "<tr>\n",
       "  <th>Df Model:</th>              <td>     1</td>      <th>                     </th>     <td> </td>   \n",
       "</tr>\n",
       "<tr>\n",
       "  <th>Covariance Type:</th>      <td>nonrobust</td>    <th>                     </th>     <td> </td>   \n",
       "</tr>\n",
       "</table>\n",
       "<table class=\"simpletable\">\n",
       "<tr>\n",
       "           <td></td>             <th>coef</th>     <th>std err</th>      <th>t</th>      <th>P>|t|</th>  <th>[0.025</th>    <th>0.975]</th>  \n",
       "</tr>\n",
       "<tr>\n",
       "  <th>Intercept</th>          <td>    6.7806</td> <td>    0.667</td> <td>   10.159</td> <td> 0.000</td> <td>    5.459</td> <td>    8.103</td>\n",
       "</tr>\n",
       "<tr>\n",
       "  <th>Evapotranspiration</th> <td>   -0.2958</td> <td>    0.136</td> <td>   -2.178</td> <td> 0.031</td> <td>   -0.565</td> <td>   -0.027</td>\n",
       "</tr>\n",
       "</table>\n",
       "<table class=\"simpletable\">\n",
       "<tr>\n",
       "  <th>Omnibus:</th>       <td>11.398</td> <th>  Durbin-Watson:     </th> <td>   0.165</td>\n",
       "</tr>\n",
       "<tr>\n",
       "  <th>Prob(Omnibus):</th> <td> 0.003</td> <th>  Jarque-Bera (JB):  </th> <td>   7.582</td>\n",
       "</tr>\n",
       "<tr>\n",
       "  <th>Skew:</th>          <td> 0.481</td> <th>  Prob(JB):          </th> <td>  0.0226</td>\n",
       "</tr>\n",
       "<tr>\n",
       "  <th>Kurtosis:</th>      <td> 2.215</td> <th>  Cond. No.          </th> <td>    8.42</td>\n",
       "</tr>\n",
       "</table><br/><br/>Warnings:<br/>[1] Standard Errors assume that the covariance matrix of the errors is correctly specified."
      ],
      "text/plain": [
       "<class 'statsmodels.iolib.summary.Summary'>\n",
       "\"\"\"\n",
       "                            OLS Regression Results                            \n",
       "==============================================================================\n",
       "Dep. Variable:               Observed   R-squared:                       0.039\n",
       "Model:                            OLS   Adj. R-squared:                  0.031\n",
       "Method:                 Least Squares   F-statistic:                     4.743\n",
       "Date:                Wed, 11 Mar 2020   Prob (F-statistic):             0.0314\n",
       "Time:                        12:10:45   Log-Likelihood:                -339.80\n",
       "No. Observations:                 118   AIC:                             683.6\n",
       "Df Residuals:                     116   BIC:                             689.1\n",
       "Df Model:                           1                                         \n",
       "Covariance Type:            nonrobust                                         \n",
       "======================================================================================\n",
       "                         coef    std err          t      P>|t|      [0.025      0.975]\n",
       "--------------------------------------------------------------------------------------\n",
       "Intercept              6.7806      0.667     10.159      0.000       5.459       8.103\n",
       "Evapotranspiration    -0.2958      0.136     -2.178      0.031      -0.565      -0.027\n",
       "==============================================================================\n",
       "Omnibus:                       11.398   Durbin-Watson:                   0.165\n",
       "Prob(Omnibus):                  0.003   Jarque-Bera (JB):                7.582\n",
       "Skew:                           0.481   Prob(JB):                       0.0226\n",
       "Kurtosis:                       2.215   Cond. No.                         8.42\n",
       "==============================================================================\n",
       "\n",
       "Warnings:\n",
       "[1] Standard Errors assume that the covariance matrix of the errors is correctly specified.\n",
       "\"\"\""
      ]
     },
     "metadata": {},
     "output_type": "display_data"
    },
    {
     "data": {
      "image/png": "[encoded data removed]",
      "text/plain": [
       "<Figure size 432x288 with 1 Axes>"
      ]
     },
     "metadata": {
      "needs_background": "light"
     },
     "output_type": "display_data"
    }
   ],
   "source": [
    "lm = smf.ols(formula='Observed ~ Evapotranspiration', data=df_seg144).fit()\n",
    "# print the coefficients\n",
    "\n",
    "display(lm.summary())\n",
    "plt.figure()\n",
    "ax = sns.regplot(x='Evapotranspiration', y='Observed', data=df_seg144)"
   ]
  },
  {
   "cell_type": "code",
   "execution_count": 21,
   "metadata": {},
   "outputs": [
    {
     "data": {
      "text/html": [
       "<table class=\"simpletable\">\n",
       "<caption>OLS Regression Results</caption>\n",
       "<tr>\n",
       "  <th>Dep. Variable:</th>        <td>Observed</td>     <th>  R-squared:         </th> <td>   0.124</td>\n",
       "</tr>\n",
       "<tr>\n",
       "  <th>Model:</th>                   <td>OLS</td>       <th>  Adj. R-squared:    </th> <td>   0.116</td>\n",
       "</tr>\n",
       "<tr>\n",
       "  <th>Method:</th>             <td>Least Squares</td>  <th>  F-statistic:       </th> <td>   16.42</td>\n",
       "</tr>\n",
       "<tr>\n",
       "  <th>Date:</th>             <td>Wed, 11 Mar 2020</td> <th>  Prob (F-statistic):</th> <td>9.22e-05</td>\n",
       "</tr>\n",
       "<tr>\n",
       "  <th>Time:</th>                 <td>12:10:46</td>     <th>  Log-Likelihood:    </th> <td> -334.36</td>\n",
       "</tr>\n",
       "<tr>\n",
       "  <th>No. Observations:</th>      <td>   118</td>      <th>  AIC:               </th> <td>   672.7</td>\n",
       "</tr>\n",
       "<tr>\n",
       "  <th>Df Residuals:</th>          <td>   116</td>      <th>  BIC:               </th> <td>   678.3</td>\n",
       "</tr>\n",
       "<tr>\n",
       "  <th>Df Model:</th>              <td>     1</td>      <th>                     </th>     <td> </td>   \n",
       "</tr>\n",
       "<tr>\n",
       "  <th>Covariance Type:</th>      <td>nonrobust</td>    <th>                     </th>     <td> </td>   \n",
       "</tr>\n",
       "</table>\n",
       "<table class=\"simpletable\">\n",
       "<tr>\n",
       "      <td></td>         <th>coef</th>     <th>std err</th>      <th>t</th>      <th>P>|t|</th>  <th>[0.025</th>    <th>0.975]</th>  \n",
       "</tr>\n",
       "<tr>\n",
       "  <th>Intercept</th> <td>  136.4763</td> <td>   32.298</td> <td>    4.226</td> <td> 0.000</td> <td>   72.507</td> <td>  200.446</td>\n",
       "</tr>\n",
       "<tr>\n",
       "  <th>Date</th>      <td>   -0.0002</td> <td>  4.5e-05</td> <td>   -4.052</td> <td> 0.000</td> <td>   -0.000</td> <td>-9.31e-05</td>\n",
       "</tr>\n",
       "</table>\n",
       "<table class=\"simpletable\">\n",
       "<tr>\n",
       "  <th>Omnibus:</th>       <td>14.886</td> <th>  Durbin-Watson:     </th> <td>   0.159</td>\n",
       "</tr>\n",
       "<tr>\n",
       "  <th>Prob(Omnibus):</th> <td> 0.001</td> <th>  Jarque-Bera (JB):  </th> <td>   5.994</td>\n",
       "</tr>\n",
       "<tr>\n",
       "  <th>Skew:</th>          <td> 0.294</td> <th>  Prob(JB):          </th> <td>  0.0499</td>\n",
       "</tr>\n",
       "<tr>\n",
       "  <th>Kurtosis:</th>      <td> 2.066</td> <th>  Cond. No.          </th> <td>6.07e+07</td>\n",
       "</tr>\n",
       "</table><br/><br/>Warnings:<br/>[1] Standard Errors assume that the covariance matrix of the errors is correctly specified.<br/>[2] The condition number is large, 6.07e+07. This might indicate that there are<br/>strong multicollinearity or other numerical problems."
      ],
      "text/plain": [
       "<class 'statsmodels.iolib.summary.Summary'>\n",
       "\"\"\"\n",
       "                            OLS Regression Results                            \n",
       "==============================================================================\n",
       "Dep. Variable:               Observed   R-squared:                       0.124\n",
       "Model:                            OLS   Adj. R-squared:                  0.116\n",
       "Method:                 Least Squares   F-statistic:                     16.42\n",
       "Date:                Wed, 11 Mar 2020   Prob (F-statistic):           9.22e-05\n",
       "Time:                        12:10:46   Log-Likelihood:                -334.36\n",
       "No. Observations:                 118   AIC:                             672.7\n",
       "Df Residuals:                     116   BIC:                             678.3\n",
       "Df Model:                           1                                         \n",
       "Covariance Type:            nonrobust                                         \n",
       "==============================================================================\n",
       "                 coef    std err          t      P>|t|      [0.025      0.975]\n",
       "------------------------------------------------------------------------------\n",
       "Intercept    136.4763     32.298      4.226      0.000      72.507     200.446\n",
       "Date          -0.0002    4.5e-05     -4.052      0.000      -0.000   -9.31e-05\n",
       "==============================================================================\n",
       "Omnibus:                       14.886   Durbin-Watson:                   0.159\n",
       "Prob(Omnibus):                  0.001   Jarque-Bera (JB):                5.994\n",
       "Skew:                           0.294   Prob(JB):                       0.0499\n",
       "Kurtosis:                       2.066   Cond. No.                     6.07e+07\n",
       "==============================================================================\n",
       "\n",
       "Warnings:\n",
       "[1] Standard Errors assume that the covariance matrix of the errors is correctly specified.\n",
       "[2] The condition number is large, 6.07e+07. This might indicate that there are\n",
       "strong multicollinearity or other numerical problems.\n",
       "\"\"\""
      ]
     },
     "metadata": {},
     "output_type": "display_data"
    },
    {
     "data": {
      "image/png": "[encoded data removed]",
      "text/plain": [
       "<Figure size 432x288 with 1 Axes>"
      ]
     },
     "metadata": {
      "needs_background": "light"
     },
     "output_type": "display_data"
    }
   ],
   "source": [
    "lm = smf.ols(formula='Observed ~ Date', data=df_seg144).fit()\n",
    "# print the coefficients\n",
    "\n",
    "display(lm.summary())\n",
    "plt.figure()\n",
    "ax = sns.regplot(x='Date', y='Observed', data=df_seg144)"
   ]
  },
  {
   "cell_type": "markdown",
   "metadata": {},
   "source": [
    "## Segment 256"
   ]
  },
  {
   "cell_type": "code",
   "execution_count": 22,
   "metadata": {},
   "outputs": [],
   "source": [
    "df_seg256 = data[data.Segment_id==256]"
   ]
  },
  {
   "cell_type": "code",
   "execution_count": 23,
   "metadata": {},
   "outputs": [
    {
     "data": {
      "text/html": [
       "<table class=\"simpletable\">\n",
       "<caption>OLS Regression Results</caption>\n",
       "<tr>\n",
       "  <th>Dep. Variable:</th>        <td>Observed</td>     <th>  R-squared:         </th> <td>   0.023</td>\n",
       "</tr>\n",
       "<tr>\n",
       "  <th>Model:</th>                   <td>OLS</td>       <th>  Adj. R-squared:    </th> <td>   0.015</td>\n",
       "</tr>\n",
       "<tr>\n",
       "  <th>Method:</th>             <td>Least Squares</td>  <th>  F-statistic:       </th> <td>   2.801</td>\n",
       "</tr>\n",
       "<tr>\n",
       "  <th>Date:</th>             <td>Wed, 11 Mar 2020</td> <th>  Prob (F-statistic):</th>  <td>0.0969</td> \n",
       "</tr>\n",
       "<tr>\n",
       "  <th>Time:</th>                 <td>12:10:47</td>     <th>  Log-Likelihood:    </th> <td> -788.46</td>\n",
       "</tr>\n",
       "<tr>\n",
       "  <th>No. Observations:</th>      <td>   119</td>      <th>  AIC:               </th> <td>   1581.</td>\n",
       "</tr>\n",
       "<tr>\n",
       "  <th>Df Residuals:</th>          <td>   117</td>      <th>  BIC:               </th> <td>   1586.</td>\n",
       "</tr>\n",
       "<tr>\n",
       "  <th>Df Model:</th>              <td>     1</td>      <th>                     </th>     <td> </td>   \n",
       "</tr>\n",
       "<tr>\n",
       "  <th>Covariance Type:</th>      <td>nonrobust</td>    <th>                     </th>     <td> </td>   \n",
       "</tr>\n",
       "</table>\n",
       "<table class=\"simpletable\">\n",
       "<tr>\n",
       "      <td></td>         <th>coef</th>     <th>std err</th>      <th>t</th>      <th>P>|t|</th>  <th>[0.025</th>    <th>0.975]</th>  \n",
       "</tr>\n",
       "<tr>\n",
       "  <th>Intercept</th> <td>-1.879e+04</td> <td> 1.15e+04</td> <td>   -1.639</td> <td> 0.104</td> <td>-4.15e+04</td> <td> 3911.755</td>\n",
       "</tr>\n",
       "<tr>\n",
       "  <th>Date</th>      <td>    0.0270</td> <td>    0.016</td> <td>    1.674</td> <td> 0.097</td> <td>   -0.005</td> <td>    0.059</td>\n",
       "</tr>\n",
       "</table>\n",
       "<table class=\"simpletable\">\n",
       "<tr>\n",
       "  <th>Omnibus:</th>       <td>17.091</td> <th>  Durbin-Watson:     </th> <td>   0.229</td>\n",
       "</tr>\n",
       "<tr>\n",
       "  <th>Prob(Omnibus):</th> <td> 0.000</td> <th>  Jarque-Bera (JB):  </th> <td>   5.211</td>\n",
       "</tr>\n",
       "<tr>\n",
       "  <th>Skew:</th>          <td>-0.136</td> <th>  Prob(JB):          </th> <td>  0.0739</td>\n",
       "</tr>\n",
       "<tr>\n",
       "  <th>Kurtosis:</th>      <td> 2.012</td> <th>  Cond. No.          </th> <td>4.83e+08</td>\n",
       "</tr>\n",
       "</table><br/><br/>Warnings:<br/>[1] Standard Errors assume that the covariance matrix of the errors is correctly specified.<br/>[2] The condition number is large, 4.83e+08. This might indicate that there are<br/>strong multicollinearity or other numerical problems."
      ],
      "text/plain": [
       "<class 'statsmodels.iolib.summary.Summary'>\n",
       "\"\"\"\n",
       "                            OLS Regression Results                            \n",
       "==============================================================================\n",
       "Dep. Variable:               Observed   R-squared:                       0.023\n",
       "Model:                            OLS   Adj. R-squared:                  0.015\n",
       "Method:                 Least Squares   F-statistic:                     2.801\n",
       "Date:                Wed, 11 Mar 2020   Prob (F-statistic):             0.0969\n",
       "Time:                        12:10:47   Log-Likelihood:                -788.46\n",
       "No. Observations:                 119   AIC:                             1581.\n",
       "Df Residuals:                     117   BIC:                             1586.\n",
       "Df Model:                           1                                         \n",
       "Covariance Type:            nonrobust                                         \n",
       "==============================================================================\n",
       "                 coef    std err          t      P>|t|      [0.025      0.975]\n",
       "------------------------------------------------------------------------------\n",
       "Intercept  -1.879e+04   1.15e+04     -1.639      0.104   -4.15e+04    3911.755\n",
       "Date           0.0270      0.016      1.674      0.097      -0.005       0.059\n",
       "==============================================================================\n",
       "Omnibus:                       17.091   Durbin-Watson:                   0.229\n",
       "Prob(Omnibus):                  0.000   Jarque-Bera (JB):                5.211\n",
       "Skew:                          -0.136   Prob(JB):                       0.0739\n",
       "Kurtosis:                       2.012   Cond. No.                     4.83e+08\n",
       "==============================================================================\n",
       "\n",
       "Warnings:\n",
       "[1] Standard Errors assume that the covariance matrix of the errors is correctly specified.\n",
       "[2] The condition number is large, 4.83e+08. This might indicate that there are\n",
       "strong multicollinearity or other numerical problems.\n",
       "\"\"\""
      ]
     },
     "metadata": {},
     "output_type": "display_data"
    },
    {
     "data": {
      "image/png": "[encoded data removed]",
      "text/plain": [
       "<Figure size 432x288 with 1 Axes>"
      ]
     },
     "metadata": {
      "needs_background": "light"
     },
     "output_type": "display_data"
    }
   ],
   "source": [
    "lm = smf.ols(formula='Observed ~ Date', data=df_seg256).fit()\n",
    "# print the coefficients\n",
    "\n",
    "display(lm.summary())\n",
    "plt.figure()\n",
    "ax = sns.regplot(x='Date', y='Observed', data=df_seg256)"
   ]
  },
  {
   "cell_type": "code",
   "execution_count": 24,
   "metadata": {},
   "outputs": [
    {
     "data": {
      "text/html": [
       "<table class=\"simpletable\">\n",
       "<caption>OLS Regression Results</caption>\n",
       "<tr>\n",
       "  <th>Dep. Variable:</th>        <td>Observed</td>     <th>  R-squared:         </th> <td>   0.012</td>\n",
       "</tr>\n",
       "<tr>\n",
       "  <th>Model:</th>                   <td>OLS</td>       <th>  Adj. R-squared:    </th> <td>   0.008</td>\n",
       "</tr>\n",
       "<tr>\n",
       "  <th>Method:</th>             <td>Least Squares</td>  <th>  F-statistic:       </th> <td>   2.877</td>\n",
       "</tr>\n",
       "<tr>\n",
       "  <th>Date:</th>             <td>Wed, 11 Mar 2020</td> <th>  Prob (F-statistic):</th>  <td>0.0911</td> \n",
       "</tr>\n",
       "<tr>\n",
       "  <th>Time:</th>                 <td>12:10:48</td>     <th>  Log-Likelihood:    </th> <td> -1296.3</td>\n",
       "</tr>\n",
       "<tr>\n",
       "  <th>No. Observations:</th>      <td>   240</td>      <th>  AIC:               </th> <td>   2597.</td>\n",
       "</tr>\n",
       "<tr>\n",
       "  <th>Df Residuals:</th>          <td>   238</td>      <th>  BIC:               </th> <td>   2604.</td>\n",
       "</tr>\n",
       "<tr>\n",
       "  <th>Df Model:</th>              <td>     1</td>      <th>                     </th>     <td> </td>   \n",
       "</tr>\n",
       "<tr>\n",
       "  <th>Covariance Type:</th>      <td>nonrobust</td>    <th>                     </th>     <td> </td>   \n",
       "</tr>\n",
       "</table>\n",
       "<table class=\"simpletable\">\n",
       "<tr>\n",
       "      <td></td>         <th>coef</th>     <th>std err</th>      <th>t</th>      <th>P>|t|</th>  <th>[0.025</th>    <th>0.975]</th>  \n",
       "</tr>\n",
       "<tr>\n",
       "  <th>Intercept</th> <td> 3978.8188</td> <td> 2309.125</td> <td>    1.723</td> <td> 0.086</td> <td> -570.115</td> <td> 8527.753</td>\n",
       "</tr>\n",
       "<tr>\n",
       "  <th>Date</th>      <td>   -0.0055</td> <td>    0.003</td> <td>   -1.696</td> <td> 0.091</td> <td>   -0.012</td> <td>    0.001</td>\n",
       "</tr>\n",
       "</table>\n",
       "<table class=\"simpletable\">\n",
       "<tr>\n",
       "  <th>Omnibus:</th>       <td>55.373</td> <th>  Durbin-Watson:     </th> <td>   3.082</td>\n",
       "</tr>\n",
       "<tr>\n",
       "  <th>Prob(Omnibus):</th> <td> 0.000</td> <th>  Jarque-Bera (JB):  </th> <td>  34.270</td>\n",
       "</tr>\n",
       "<tr>\n",
       "  <th>Skew:</th>          <td> 0.794</td> <th>  Prob(JB):          </th> <td>3.62e-08</td>\n",
       "</tr>\n",
       "<tr>\n",
       "  <th>Kurtosis:</th>      <td> 2.048</td> <th>  Cond. No.          </th> <td>4.72e+08</td>\n",
       "</tr>\n",
       "</table><br/><br/>Warnings:<br/>[1] Standard Errors assume that the covariance matrix of the errors is correctly specified.<br/>[2] The condition number is large, 4.72e+08. This might indicate that there are<br/>strong multicollinearity or other numerical problems."
      ],
      "text/plain": [
       "<class 'statsmodels.iolib.summary.Summary'>\n",
       "\"\"\"\n",
       "                            OLS Regression Results                            \n",
       "==============================================================================\n",
       "Dep. Variable:               Observed   R-squared:                       0.012\n",
       "Model:                            OLS   Adj. R-squared:                  0.008\n",
       "Method:                 Least Squares   F-statistic:                     2.877\n",
       "Date:                Wed, 11 Mar 2020   Prob (F-statistic):             0.0911\n",
       "Time:                        12:10:48   Log-Likelihood:                -1296.3\n",
       "No. Observations:                 240   AIC:                             2597.\n",
       "Df Residuals:                     238   BIC:                             2604.\n",
       "Df Model:                           1                                         \n",
       "Covariance Type:            nonrobust                                         \n",
       "==============================================================================\n",
       "                 coef    std err          t      P>|t|      [0.025      0.975]\n",
       "------------------------------------------------------------------------------\n",
       "Intercept   3978.8188   2309.125      1.723      0.086    -570.115    8527.753\n",
       "Date          -0.0055      0.003     -1.696      0.091      -0.012       0.001\n",
       "==============================================================================\n",
       "Omnibus:                       55.373   Durbin-Watson:                   3.082\n",
       "Prob(Omnibus):                  0.000   Jarque-Bera (JB):               34.270\n",
       "Skew:                           0.794   Prob(JB):                     3.62e-08\n",
       "Kurtosis:                       2.048   Cond. No.                     4.72e+08\n",
       "==============================================================================\n",
       "\n",
       "Warnings:\n",
       "[1] Standard Errors assume that the covariance matrix of the errors is correctly specified.\n",
       "[2] The condition number is large, 4.72e+08. This might indicate that there are\n",
       "strong multicollinearity or other numerical problems.\n",
       "\"\"\""
      ]
     },
     "metadata": {},
     "output_type": "display_data"
    },
    {
     "data": {
      "image/png": "[encoded data removed]",
      "text/plain": [
       "<Figure size 432x288 with 1 Axes>"
      ]
     },
     "metadata": {
      "needs_background": "light"
     },
     "output_type": "display_data"
    }
   ],
   "source": [
    "df_seg53 = data[data.Segment_id==53]\n",
    "lm = smf.ols(formula='Observed ~ Date', data=df_seg53).fit()\n",
    "# print the coefficients\n",
    "\n",
    "display(lm.summary())\n",
    "plt.figure()\n",
    "ax = sns.regplot(x='Date', y='Observed', data=df_seg53)"
   ]
  },
  {
   "cell_type": "markdown",
   "metadata": {},
   "source": [
    "# Model using all the variables"
   ]
  },
  {
   "cell_type": "code",
   "execution_count": 25,
   "metadata": {},
   "outputs": [
    {
     "data": {
      "text/plain": [
       "Intercept             146.087165\n",
       "Irrigation_pumping      0.060641\n",
       "Evapotranspiration     -0.335124\n",
       "Precipitation          -0.062138\n",
       "Date                   -0.000192\n",
       "dtype: float64"
      ]
     },
     "metadata": {},
     "output_type": "display_data"
    },
    {
     "data": {
      "text/html": [
       "<div>\n",
       "<style scoped>\n",
       "    .dataframe tbody tr th:only-of-type {\n",
       "        vertical-align: middle;\n",
       "    }\n",
       "\n",
       "    .dataframe tbody tr th {\n",
       "        vertical-align: top;\n",
       "    }\n",
       "\n",
       "    .dataframe thead th {\n",
       "        text-align: right;\n",
       "    }\n",
       "</style>\n",
       "<table border=\"1\" class=\"dataframe\">\n",
       "  <thead>\n",
       "    <tr style=\"text-align: right;\">\n",
       "      <th></th>\n",
       "      <th>0</th>\n",
       "      <th>1</th>\n",
       "    </tr>\n",
       "  </thead>\n",
       "  <tbody>\n",
       "    <tr>\n",
       "      <td>Intercept</td>\n",
       "      <td>75.679806</td>\n",
       "      <td>216.494525</td>\n",
       "    </tr>\n",
       "    <tr>\n",
       "      <td>Irrigation_pumping</td>\n",
       "      <td>-4.295477</td>\n",
       "      <td>4.416760</td>\n",
       "    </tr>\n",
       "    <tr>\n",
       "      <td>Evapotranspiration</td>\n",
       "      <td>-0.607605</td>\n",
       "      <td>-0.062643</td>\n",
       "    </tr>\n",
       "    <tr>\n",
       "      <td>Precipitation</td>\n",
       "      <td>-0.216438</td>\n",
       "      <td>0.092161</td>\n",
       "    </tr>\n",
       "    <tr>\n",
       "      <td>Date</td>\n",
       "      <td>-0.000289</td>\n",
       "      <td>-0.000095</td>\n",
       "    </tr>\n",
       "  </tbody>\n",
       "</table>\n",
       "</div>"
      ],
      "text/plain": [
       "                            0           1\n",
       "Intercept           75.679806  216.494525\n",
       "Irrigation_pumping  -4.295477    4.416760\n",
       "Evapotranspiration  -0.607605   -0.062643\n",
       "Precipitation       -0.216438    0.092161\n",
       "Date                -0.000289   -0.000095"
      ]
     },
     "metadata": {},
     "output_type": "display_data"
    },
    {
     "data": {
      "text/html": [
       "<table class=\"simpletable\">\n",
       "<caption>OLS Regression Results</caption>\n",
       "<tr>\n",
       "  <th>Dep. Variable:</th>        <td>Observed</td>     <th>  R-squared:         </th> <td>   0.178</td>\n",
       "</tr>\n",
       "<tr>\n",
       "  <th>Model:</th>                   <td>OLS</td>       <th>  Adj. R-squared:    </th> <td>   0.148</td>\n",
       "</tr>\n",
       "<tr>\n",
       "  <th>Method:</th>             <td>Least Squares</td>  <th>  F-statistic:       </th> <td>   6.097</td>\n",
       "</tr>\n",
       "<tr>\n",
       "  <th>Date:</th>             <td>Wed, 11 Mar 2020</td> <th>  Prob (F-statistic):</th> <td>0.000177</td>\n",
       "</tr>\n",
       "<tr>\n",
       "  <th>Time:</th>                 <td>12:10:48</td>     <th>  Log-Likelihood:    </th> <td> -330.64</td>\n",
       "</tr>\n",
       "<tr>\n",
       "  <th>No. Observations:</th>      <td>   118</td>      <th>  AIC:               </th> <td>   671.3</td>\n",
       "</tr>\n",
       "<tr>\n",
       "  <th>Df Residuals:</th>          <td>   113</td>      <th>  BIC:               </th> <td>   685.1</td>\n",
       "</tr>\n",
       "<tr>\n",
       "  <th>Df Model:</th>              <td>     4</td>      <th>                     </th>     <td> </td>   \n",
       "</tr>\n",
       "<tr>\n",
       "  <th>Covariance Type:</th>      <td>nonrobust</td>    <th>                     </th>     <td> </td>   \n",
       "</tr>\n",
       "</table>\n",
       "<table class=\"simpletable\">\n",
       "<tr>\n",
       "           <td></td>             <th>coef</th>     <th>std err</th>      <th>t</th>      <th>P>|t|</th>  <th>[0.025</th>    <th>0.975]</th>  \n",
       "</tr>\n",
       "<tr>\n",
       "  <th>Intercept</th>          <td>  146.0872</td> <td>   35.538</td> <td>    4.111</td> <td> 0.000</td> <td>   75.680</td> <td>  216.495</td>\n",
       "</tr>\n",
       "<tr>\n",
       "  <th>Irrigation_pumping</th> <td>    0.0606</td> <td>    2.199</td> <td>    0.028</td> <td> 0.978</td> <td>   -4.295</td> <td>    4.417</td>\n",
       "</tr>\n",
       "<tr>\n",
       "  <th>Evapotranspiration</th> <td>   -0.3351</td> <td>    0.138</td> <td>   -2.437</td> <td> 0.016</td> <td>   -0.608</td> <td>   -0.063</td>\n",
       "</tr>\n",
       "<tr>\n",
       "  <th>Precipitation</th>      <td>   -0.0621</td> <td>    0.078</td> <td>   -0.798</td> <td> 0.427</td> <td>   -0.216</td> <td>    0.092</td>\n",
       "</tr>\n",
       "<tr>\n",
       "  <th>Date</th>               <td>   -0.0002</td> <td> 4.91e-05</td> <td>   -3.908</td> <td> 0.000</td> <td>   -0.000</td> <td>-9.46e-05</td>\n",
       "</tr>\n",
       "</table>\n",
       "<table class=\"simpletable\">\n",
       "<tr>\n",
       "  <th>Omnibus:</th>       <td> 4.911</td> <th>  Durbin-Watson:     </th> <td>   0.204</td>\n",
       "</tr>\n",
       "<tr>\n",
       "  <th>Prob(Omnibus):</th> <td> 0.086</td> <th>  Jarque-Bera (JB):  </th> <td>   3.227</td>\n",
       "</tr>\n",
       "<tr>\n",
       "  <th>Skew:</th>          <td> 0.233</td> <th>  Prob(JB):          </th> <td>   0.199</td>\n",
       "</tr>\n",
       "<tr>\n",
       "  <th>Kurtosis:</th>      <td> 2.338</td> <th>  Cond. No.          </th> <td>6.81e+07</td>\n",
       "</tr>\n",
       "</table><br/><br/>Warnings:<br/>[1] Standard Errors assume that the covariance matrix of the errors is correctly specified.<br/>[2] The condition number is large, 6.81e+07. This might indicate that there are<br/>strong multicollinearity or other numerical problems."
      ],
      "text/plain": [
       "<class 'statsmodels.iolib.summary.Summary'>\n",
       "\"\"\"\n",
       "                            OLS Regression Results                            \n",
       "==============================================================================\n",
       "Dep. Variable:               Observed   R-squared:                       0.178\n",
       "Model:                            OLS   Adj. R-squared:                  0.148\n",
       "Method:                 Least Squares   F-statistic:                     6.097\n",
       "Date:                Wed, 11 Mar 2020   Prob (F-statistic):           0.000177\n",
       "Time:                        12:10:48   Log-Likelihood:                -330.64\n",
       "No. Observations:                 118   AIC:                             671.3\n",
       "Df Residuals:                     113   BIC:                             685.1\n",
       "Df Model:                           4                                         \n",
       "Covariance Type:            nonrobust                                         \n",
       "======================================================================================\n",
       "                         coef    std err          t      P>|t|      [0.025      0.975]\n",
       "--------------------------------------------------------------------------------------\n",
       "Intercept            146.0872     35.538      4.111      0.000      75.680     216.495\n",
       "Irrigation_pumping     0.0606      2.199      0.028      0.978      -4.295       4.417\n",
       "Evapotranspiration    -0.3351      0.138     -2.437      0.016      -0.608      -0.063\n",
       "Precipitation         -0.0621      0.078     -0.798      0.427      -0.216       0.092\n",
       "Date                  -0.0002   4.91e-05     -3.908      0.000      -0.000   -9.46e-05\n",
       "==============================================================================\n",
       "Omnibus:                        4.911   Durbin-Watson:                   0.204\n",
       "Prob(Omnibus):                  0.086   Jarque-Bera (JB):                3.227\n",
       "Skew:                           0.233   Prob(JB):                        0.199\n",
       "Kurtosis:                       2.338   Cond. No.                     6.81e+07\n",
       "==============================================================================\n",
       "\n",
       "Warnings:\n",
       "[1] Standard Errors assume that the covariance matrix of the errors is correctly specified.\n",
       "[2] The condition number is large, 6.81e+07. This might indicate that there are\n",
       "strong multicollinearity or other numerical problems.\n",
       "\"\"\""
      ]
     },
     "execution_count": 25,
     "metadata": {},
     "output_type": "execute_result"
    }
   ],
   "source": [
    "lm = smf.ols(formula='Observed ~ Irrigation_pumping + Evapotranspiration + Precipitation + Date', data=df_seg144).fit()\n",
    "# print the coefficients\n",
    "display(lm.params)\n",
    "\n",
    "# print the confidence intervals for the model coefficients\n",
    "display(lm.conf_int())\n",
    "# print the p-values for the model coefficients\n",
    "lm.pvalues\n",
    "# print a summary of the fitted model\n",
    "lm.summary()"
   ]
  },
  {
   "cell_type": "code",
   "execution_count": 26,
   "metadata": {},
   "outputs": [
    {
     "data": {
      "text/plain": [
       "Intercept             143.009977\n",
       "Evapotranspiration     -0.330599\n",
       "Date                   -0.000189\n",
       "dtype: float64"
      ]
     },
     "metadata": {},
     "output_type": "display_data"
    },
    {
     "data": {
      "text/html": [
       "<div>\n",
       "<style scoped>\n",
       "    .dataframe tbody tr th:only-of-type {\n",
       "        vertical-align: middle;\n",
       "    }\n",
       "\n",
       "    .dataframe tbody tr th {\n",
       "        vertical-align: top;\n",
       "    }\n",
       "\n",
       "    .dataframe thead th {\n",
       "        text-align: right;\n",
       "    }\n",
       "</style>\n",
       "<table border=\"1\" class=\"dataframe\">\n",
       "  <thead>\n",
       "    <tr style=\"text-align: right;\">\n",
       "      <th></th>\n",
       "      <th>0</th>\n",
       "      <th>1</th>\n",
       "    </tr>\n",
       "  </thead>\n",
       "  <tbody>\n",
       "    <tr>\n",
       "      <td>Intercept</td>\n",
       "      <td>80.377194</td>\n",
       "      <td>205.642760</td>\n",
       "    </tr>\n",
       "    <tr>\n",
       "      <td>Evapotranspiration</td>\n",
       "      <td>-0.581864</td>\n",
       "      <td>-0.079335</td>\n",
       "    </tr>\n",
       "    <tr>\n",
       "      <td>Date</td>\n",
       "      <td>-0.000277</td>\n",
       "      <td>-0.000102</td>\n",
       "    </tr>\n",
       "  </tbody>\n",
       "</table>\n",
       "</div>"
      ],
      "text/plain": [
       "                            0           1\n",
       "Intercept           80.377194  205.642760\n",
       "Evapotranspiration  -0.581864   -0.079335\n",
       "Date                -0.000277   -0.000102"
      ]
     },
     "metadata": {},
     "output_type": "display_data"
    },
    {
     "data": {
      "text/html": [
       "<table class=\"simpletable\">\n",
       "<caption>OLS Regression Results</caption>\n",
       "<tr>\n",
       "  <th>Dep. Variable:</th>        <td>Observed</td>     <th>  R-squared:         </th> <td>   0.173</td>\n",
       "</tr>\n",
       "<tr>\n",
       "  <th>Model:</th>                   <td>OLS</td>       <th>  Adj. R-squared:    </th> <td>   0.158</td>\n",
       "</tr>\n",
       "<tr>\n",
       "  <th>Method:</th>             <td>Least Squares</td>  <th>  F-statistic:       </th> <td>   12.02</td>\n",
       "</tr>\n",
       "<tr>\n",
       "  <th>Date:</th>             <td>Wed, 11 Mar 2020</td> <th>  Prob (F-statistic):</th> <td>1.83e-05</td>\n",
       "</tr>\n",
       "<tr>\n",
       "  <th>Time:</th>                 <td>12:10:49</td>     <th>  Log-Likelihood:    </th> <td> -330.97</td>\n",
       "</tr>\n",
       "<tr>\n",
       "  <th>No. Observations:</th>      <td>   118</td>      <th>  AIC:               </th> <td>   667.9</td>\n",
       "</tr>\n",
       "<tr>\n",
       "  <th>Df Residuals:</th>          <td>   115</td>      <th>  BIC:               </th> <td>   676.3</td>\n",
       "</tr>\n",
       "<tr>\n",
       "  <th>Df Model:</th>              <td>     2</td>      <th>                     </th>     <td> </td>   \n",
       "</tr>\n",
       "<tr>\n",
       "  <th>Covariance Type:</th>      <td>nonrobust</td>    <th>                     </th>     <td> </td>   \n",
       "</tr>\n",
       "</table>\n",
       "<table class=\"simpletable\">\n",
       "<tr>\n",
       "           <td></td>             <th>coef</th>     <th>std err</th>      <th>t</th>      <th>P>|t|</th>  <th>[0.025</th>    <th>0.975]</th>  \n",
       "</tr>\n",
       "<tr>\n",
       "  <th>Intercept</th>          <td>  143.0100</td> <td>   31.620</td> <td>    4.523</td> <td> 0.000</td> <td>   80.377</td> <td>  205.643</td>\n",
       "</tr>\n",
       "<tr>\n",
       "  <th>Evapotranspiration</th> <td>   -0.3306</td> <td>    0.127</td> <td>   -2.606</td> <td> 0.010</td> <td>   -0.582</td> <td>   -0.079</td>\n",
       "</tr>\n",
       "<tr>\n",
       "  <th>Date</th>               <td>   -0.0002</td> <td>  4.4e-05</td> <td>   -4.309</td> <td> 0.000</td> <td>   -0.000</td> <td>   -0.000</td>\n",
       "</tr>\n",
       "</table>\n",
       "<table class=\"simpletable\">\n",
       "<tr>\n",
       "  <th>Omnibus:</th>       <td> 7.207</td> <th>  Durbin-Watson:     </th> <td>   0.198</td>\n",
       "</tr>\n",
       "<tr>\n",
       "  <th>Prob(Omnibus):</th> <td> 0.027</td> <th>  Jarque-Bera (JB):  </th> <td>   3.815</td>\n",
       "</tr>\n",
       "<tr>\n",
       "  <th>Skew:</th>          <td> 0.217</td> <th>  Prob(JB):          </th> <td>   0.148</td>\n",
       "</tr>\n",
       "<tr>\n",
       "  <th>Kurtosis:</th>      <td> 2.233</td> <th>  Cond. No.          </th> <td>6.09e+07</td>\n",
       "</tr>\n",
       "</table><br/><br/>Warnings:<br/>[1] Standard Errors assume that the covariance matrix of the errors is correctly specified.<br/>[2] The condition number is large, 6.09e+07. This might indicate that there are<br/>strong multicollinearity or other numerical problems."
      ],
      "text/plain": [
       "<class 'statsmodels.iolib.summary.Summary'>\n",
       "\"\"\"\n",
       "                            OLS Regression Results                            \n",
       "==============================================================================\n",
       "Dep. Variable:               Observed   R-squared:                       0.173\n",
       "Model:                            OLS   Adj. R-squared:                  0.158\n",
       "Method:                 Least Squares   F-statistic:                     12.02\n",
       "Date:                Wed, 11 Mar 2020   Prob (F-statistic):           1.83e-05\n",
       "Time:                        12:10:49   Log-Likelihood:                -330.97\n",
       "No. Observations:                 118   AIC:                             667.9\n",
       "Df Residuals:                     115   BIC:                             676.3\n",
       "Df Model:                           2                                         \n",
       "Covariance Type:            nonrobust                                         \n",
       "======================================================================================\n",
       "                         coef    std err          t      P>|t|      [0.025      0.975]\n",
       "--------------------------------------------------------------------------------------\n",
       "Intercept            143.0100     31.620      4.523      0.000      80.377     205.643\n",
       "Evapotranspiration    -0.3306      0.127     -2.606      0.010      -0.582      -0.079\n",
       "Date                  -0.0002    4.4e-05     -4.309      0.000      -0.000      -0.000\n",
       "==============================================================================\n",
       "Omnibus:                        7.207   Durbin-Watson:                   0.198\n",
       "Prob(Omnibus):                  0.027   Jarque-Bera (JB):                3.815\n",
       "Skew:                           0.217   Prob(JB):                        0.148\n",
       "Kurtosis:                       2.233   Cond. No.                     6.09e+07\n",
       "==============================================================================\n",
       "\n",
       "Warnings:\n",
       "[1] Standard Errors assume that the covariance matrix of the errors is correctly specified.\n",
       "[2] The condition number is large, 6.09e+07. This might indicate that there are\n",
       "strong multicollinearity or other numerical problems.\n",
       "\"\"\""
      ]
     },
     "execution_count": 26,
     "metadata": {},
     "output_type": "execute_result"
    }
   ],
   "source": [
    "lm = smf.ols(formula='Observed ~  Evapotranspiration + Date', data=df_seg144).fit()\n",
    "# print the coefficients\n",
    "display(lm.params)\n",
    "\n",
    "# print the confidence intervals for the model coefficients\n",
    "display(lm.conf_int())\n",
    "# print the p-values for the model coefficients\n",
    "lm.pvalues\n",
    "# print a summary of the fitted model\n",
    "lm.summary()"
   ]
  },
  {
   "cell_type": "markdown",
   "metadata": {},
   "source": [
    "# Analysis of segment id to figure out which segments will be more effective. Clearly we can see that segment if between 130 and 200 have significant effect on baseflow. Hence, segments within this range can be used to analyse data individually."
   ]
  },
  {
   "cell_type": "code",
   "execution_count": 32,
   "metadata": {},
   "outputs": [
    {
     "data": {
      "text/plain": [
       "<matplotlib.axes._subplots.AxesSubplot at 0x1894c3a8508>"
      ]
     },
     "execution_count": 32,
     "metadata": {},
     "output_type": "execute_result"
    },
    {
     "data": {
      "image/png": "[encoded data removed]",
      "text/plain": [
       "<Figure size 360x360 with 1 Axes>"
      ]
     },
     "metadata": {
      "needs_background": "light"
     },
     "output_type": "display_data"
    }
   ],
   "source": [
    "data = data.groupby(['Segment_id']).agg({'Observed':'sum'})\n",
    "data.reset_index(drop=False,inplace=True)\n",
    "data.plot(kind='scatter', x='Segment_id', y='Observed', figsize=(5, 5))"
   ]
  },
  {
   "cell_type": "code",
   "execution_count": 33,
   "metadata": {},
   "outputs": [
    {
     "name": "stdout",
     "output_type": "stream",
     "text": [
      "-133.95469424515272\n",
      "[1.59534497]\n"
     ]
    }
   ],
   "source": [
    "# create X and y\n",
    "feature_cols = ['Segment_id']\n",
    "X = data[feature_cols]\n",
    "y = data.Observed\n",
    "\n",
    "from sklearn.linear_model import LinearRegression\n",
    "lm = LinearRegression()\n",
    "lm.fit(X, y)\n",
    "\n",
    "# print intercept and coefficients\n",
    "print(lm.intercept_)\n",
    "print(lm.coef_)"
   ]
  },
  {
   "cell_type": "code",
   "execution_count": 34,
   "metadata": {},
   "outputs": [
    {
     "data": {
      "text/html": [
       "<div>\n",
       "<style scoped>\n",
       "    .dataframe tbody tr th:only-of-type {\n",
       "        vertical-align: middle;\n",
       "    }\n",
       "\n",
       "    .dataframe tbody tr th {\n",
       "        vertical-align: top;\n",
       "    }\n",
       "\n",
       "    .dataframe thead th {\n",
       "        text-align: right;\n",
       "    }\n",
       "</style>\n",
       "<table border=\"1\" class=\"dataframe\">\n",
       "  <thead>\n",
       "    <tr style=\"text-align: right;\">\n",
       "      <th></th>\n",
       "      <th>Segment_id</th>\n",
       "    </tr>\n",
       "  </thead>\n",
       "  <tbody>\n",
       "    <tr>\n",
       "      <td>0</td>\n",
       "      <td>40</td>\n",
       "    </tr>\n",
       "    <tr>\n",
       "      <td>1</td>\n",
       "      <td>51</td>\n",
       "    </tr>\n",
       "    <tr>\n",
       "      <td>2</td>\n",
       "      <td>53</td>\n",
       "    </tr>\n",
       "    <tr>\n",
       "      <td>3</td>\n",
       "      <td>55</td>\n",
       "    </tr>\n",
       "  </tbody>\n",
       "</table>\n",
       "</div>"
      ],
      "text/plain": [
       "   Segment_id\n",
       "0          40\n",
       "1          51\n",
       "2          53\n",
       "3          55"
      ]
     },
     "metadata": {},
     "output_type": "display_data"
    }
   ],
   "source": [
    "X_new = pd.DataFrame({'Segment_id': [40, 51, 53,55]})\n",
    "display(X_new)"
   ]
  },
  {
   "cell_type": "code",
   "execution_count": 35,
   "metadata": {},
   "outputs": [
    {
     "data": {
      "text/plain": [
       "array([-70.14089526, -52.59210054, -49.40141059, -46.21072065])"
      ]
     },
     "execution_count": 35,
     "metadata": {},
     "output_type": "execute_result"
    }
   ],
   "source": [
    "lm.predict(X_new.values)"
   ]
  },
  {
   "cell_type": "code",
   "execution_count": 36,
   "metadata": {},
   "outputs": [
    {
     "data": {
      "text/html": [
       "<div>\n",
       "<style scoped>\n",
       "    .dataframe tbody tr th:only-of-type {\n",
       "        vertical-align: middle;\n",
       "    }\n",
       "\n",
       "    .dataframe tbody tr th {\n",
       "        vertical-align: top;\n",
       "    }\n",
       "\n",
       "    .dataframe thead th {\n",
       "        text-align: right;\n",
       "    }\n",
       "</style>\n",
       "<table border=\"1\" class=\"dataframe\">\n",
       "  <thead>\n",
       "    <tr style=\"text-align: right;\">\n",
       "      <th></th>\n",
       "      <th>Data</th>\n",
       "    </tr>\n",
       "  </thead>\n",
       "  <tbody>\n",
       "    <tr>\n",
       "      <td>0</td>\n",
       "      <td>40</td>\n",
       "    </tr>\n",
       "    <tr>\n",
       "      <td>1</td>\n",
       "      <td>256</td>\n",
       "    </tr>\n",
       "  </tbody>\n",
       "</table>\n",
       "</div>"
      ],
      "text/plain": [
       "   Data\n",
       "0    40\n",
       "1   256"
      ]
     },
     "execution_count": 36,
     "metadata": {},
     "output_type": "execute_result"
    }
   ],
   "source": [
    "X_new = pd.DataFrame({'Data': [data.Segment_id.min(), data.Segment_id.max()]})\n",
    "X_new"
   ]
  },
  {
   "cell_type": "code",
   "execution_count": 37,
   "metadata": {},
   "outputs": [
    {
     "data": {
      "text/plain": [
       "array([-70.14089526, 274.45361924])"
      ]
     },
     "execution_count": 37,
     "metadata": {},
     "output_type": "execute_result"
    }
   ],
   "source": [
    "preds = lm.predict(X_new)\n",
    "preds"
   ]
  },
  {
   "cell_type": "code",
   "execution_count": 38,
   "metadata": {},
   "outputs": [
    {
     "data": {
      "text/plain": [
       "[<matplotlib.lines.Line2D at 0x1894c385dc8>]"
      ]
     },
     "execution_count": 38,
     "metadata": {},
     "output_type": "execute_result"
    },
    {
     "data": {
      "image/png": "[encoded data removed]",
      "text/plain": [
       "<Figure size 432x288 with 1 Axes>"
      ]
     },
     "metadata": {
      "needs_background": "light"
     },
     "output_type": "display_data"
    }
   ],
   "source": [
    "# first, plot the observed data\n",
    "data.plot(kind='scatter', x='Segment_id', y='Observed')\n",
    "\n",
    "# then, plot the least squares line\n",
    "plt.plot(X_new, preds, c='red', linewidth=2)"
   ]
  },
  {
   "cell_type": "code",
   "execution_count": 39,
   "metadata": {},
   "outputs": [
    {
     "data": {
      "text/plain": [
       "<matplotlib.axes._subplots.AxesSubplot at 0x1894c48a048>"
      ]
     },
     "execution_count": 39,
     "metadata": {},
     "output_type": "execute_result"
    },
    {
     "data": {
      "image/png": "[encoded data removed]",
      "text/plain": [
       "<Figure size 432x288 with 1 Axes>"
      ]
     },
     "metadata": {
      "needs_background": "light"
     },
     "output_type": "display_data"
    }
   ],
   "source": [
    "sns.regplot(x='Segment_id', y='Observed', data=data)"
   ]
  },
  {
   "cell_type": "code",
   "execution_count": 40,
   "metadata": {},
   "outputs": [
    {
     "data": {
      "text/plain": [
       "Intercept    -133.954694\n",
       "Segment_id      1.595345\n",
       "dtype: float64"
      ]
     },
     "metadata": {},
     "output_type": "display_data"
    },
    {
     "data": {
      "text/html": [
       "<div>\n",
       "<style scoped>\n",
       "    .dataframe tbody tr th:only-of-type {\n",
       "        vertical-align: middle;\n",
       "    }\n",
       "\n",
       "    .dataframe tbody tr th {\n",
       "        vertical-align: top;\n",
       "    }\n",
       "\n",
       "    .dataframe thead th {\n",
       "        text-align: right;\n",
       "    }\n",
       "</style>\n",
       "<table border=\"1\" class=\"dataframe\">\n",
       "  <thead>\n",
       "    <tr style=\"text-align: right;\">\n",
       "      <th></th>\n",
       "      <th>0</th>\n",
       "      <th>1</th>\n",
       "    </tr>\n",
       "  </thead>\n",
       "  <tbody>\n",
       "    <tr>\n",
       "      <td>Intercept</td>\n",
       "      <td>-240.697408</td>\n",
       "      <td>-27.211980</td>\n",
       "    </tr>\n",
       "    <tr>\n",
       "      <td>Segment_id</td>\n",
       "      <td>0.848985</td>\n",
       "      <td>2.341705</td>\n",
       "    </tr>\n",
       "  </tbody>\n",
       "</table>\n",
       "</div>"
      ],
      "text/plain": [
       "                     0          1\n",
       "Intercept  -240.697408 -27.211980\n",
       "Segment_id    0.848985   2.341705"
      ]
     },
     "metadata": {},
     "output_type": "display_data"
    }
   ],
   "source": [
    "# this is the standard import if you're using \"formula notation\" (similar to R)\n",
    "import statsmodels.formula.api as smf\n",
    "\n",
    "# create a fitted model in one line\n",
    "lm = smf.ols(formula='Observed ~ Segment_id', data=data).fit()\n",
    "\n",
    "# print the coefficients\n",
    "display(lm.params)\n",
    "\n",
    "# print the confidence intervals for the model coefficients\n",
    "display(lm.conf_int())"
   ]
  },
  {
   "cell_type": "code",
   "execution_count": 41,
   "metadata": {},
   "outputs": [
    {
     "data": {
      "text/plain": [
       "Intercept     0.01521\n",
       "Segment_id    0.00010\n",
       "dtype: float64"
      ]
     },
     "execution_count": 41,
     "metadata": {},
     "output_type": "execute_result"
    }
   ],
   "source": [
    "lm = smf.ols(formula='Observed ~ Segment_id', data=data).fit()\n",
    "# print the p-values for the model coefficients\n",
    "lm.pvalues"
   ]
  },
  {
   "cell_type": "markdown",
   "metadata": {},
   "source": [
    "# R squared values"
   ]
  },
  {
   "cell_type": "code",
   "execution_count": 44,
   "metadata": {},
   "outputs": [
    {
     "data": {
      "text/plain": [
       "0.3181369878830679"
      ]
     },
     "metadata": {},
     "output_type": "display_data"
    }
   ],
   "source": [
    "lm = LinearRegression()\n",
    "lm.fit(data[['Segment_id']], data.Observed)\n",
    "display(lm.score(data[['Segment_id']], data.Observed))"
   ]
  },
  {
   "cell_type": "code",
   "execution_count": null,
   "metadata": {},
   "outputs": [],
   "source": []
  }
 ],
 "metadata": {
  "kernelspec": {
   "display_name": "Python 3",
   "language": "python",
   "name": "python3"
  },
  "language_info": {
   "codemirror_mode": {
    "name": "ipython",
    "version": 3
   },
   "file_extension": ".py",
   "mimetype": "text/x-python",
   "name": "python",
   "nbconvert_exporter": "python",
   "pygments_lexer": "ipython3",
   "version": "3.7.4"
  }
 },
 "nbformat": 4,
 "nbformat_minor": 4
}
